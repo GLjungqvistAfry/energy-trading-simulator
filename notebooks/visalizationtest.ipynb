{
 "cells": [
  {
   "cell_type": "code",
   "execution_count": null,
   "metadata": {},
   "outputs": [],
   "source": [
    "import pandas as pd\n",
    "import numpy as np\n",
    "import itertools\n",
    "\n",
    "from bokeh.plotting import figure, show\n",
    "from bokeh.io import output_notebook, output_file\n",
    "from bokeh.models import ColumnDataSource\n",
    "from bokeh.layouts import grid, gridplot"
   ]
  },
  {
   "cell_type": "code",
   "execution_count": null,
   "metadata": {},
   "outputs": [],
   "source": [
    "output_notebook()"
   ]
  },
  {
   "cell_type": "markdown",
   "metadata": {},
   "source": [
    "# Plotting our stuff"
   ]
  },
  {
   "cell_type": "code",
   "execution_count": null,
   "metadata": {},
   "outputs": [],
   "source": [
    "# Load data\n",
    "df = pd.read_csv(\"../trades.csv\")\n",
    "INDEX_COLUMNS = [\"period\", \"agent\", \"resource\", \"market\"]\n",
    "df.period = pd.to_datetime(df.period)\n",
    "combined = [pd.to_datetime(df[\"period\"].unique()), df[\"agent\"].unique(), df[\"resource\"].unique(), df[\"market\"].unique()]\n",
    "index_df = pd.DataFrame(columns = INDEX_COLUMNS, data=list(itertools.product(*combined)))\n",
    "df = index_df.merge(df, how='left')\n",
    "df[\"quantity\"] = df[\"quantity\"].fillna(0)"
   ]
  },
  {
   "cell_type": "code",
   "execution_count": null,
   "metadata": {},
   "outputs": [],
   "source": [
    "p1 = figure(title=\"Trades by BuildingAgent\", x_axis_label='Date', y_axis_label='Energy', x_axis_type='datetime')\n",
    "p2 = figure(title=\"Trades by BatteryStorageAgent\", x_axis_label='Date', y_axis_label='Energy', x_axis_type='datetime')\n",
    "p3 = figure(title=\"Trades by GroceryStoreAgent\", x_axis_label='Date', y_axis_label='Energy', x_axis_type='datetime')\n",
    "p4 = figure(title=\"Trades by ElectricityGridAgent\", x_axis_label='Date', y_axis_label='Energy', x_axis_type='datetime')\n",
    "p5 = figure(title=\"Trades by PVAgent\", x_axis_label='Date', y_axis_label='Energy', x_axis_type='datetime')"
   ]
  },
  {
   "cell_type": "code",
   "execution_count": null,
   "metadata": {},
   "outputs": [],
   "source": [
    "# Get lines\n",
    "x = pd.to_datetime(df[\"period\"].unique())\n",
    "\n",
    "\n",
    "# Get building agent trades\n",
    "y1 = df.loc[df['agent'] == \"BuildingAgent\"][\"quantity\"]\n",
    "y2 = df.loc[df['agent'] == \"BatteryStorageAgent\"][\"quantity\"]\n",
    "y3 = df.loc[df['agent'] == \"GroceryStoreAgent\"][\"quantity\"]\n",
    "y4 = df.loc[df['agent'] == \"ElectricityGridAgent\"][\"quantity\"]\n",
    "y5 = df.loc[df['agent'] == \"PVAgent\"][\"quantity\"]\n",
    "\n",
    "p1.line(x, y1, legend_label=\"Energy\", color=\"blue\", line_width=2)\n",
    "p2.line(x, y2, legend_label=\"Energy\", color=\"blue\", line_width=2)\n",
    "p3.line(x, y3, legend_label=\"Energy\", color=\"blue\", line_width=2)\n",
    "p4.line(x, y4, legend_label=\"Energy\", color=\"blue\", line_width=2)\n",
    "p5.line(x, y5, legend_label=\"Energy\", color=\"blue\", line_width=2)\n",
    "\n",
    "grid = gridplot([[p1, p2], [p3, p4], [p5, None]])"
   ]
  },
  {
   "cell_type": "code",
   "execution_count": null,
   "metadata": {},
   "outputs": [],
   "source": [
    "# get timestamps\n",
    "x2 = df[\"period\"].unique()\n",
    "\n",
    "# Get PV energy amounts\n",
    "PVtrades = df.loc[df['agent'] == \"PVAgent\"][[\"quantity\",\"period\"]]\n",
    "\n",
    "# Find all datetimes\n",
    "# If there is a PVAgent trade, use that\n",
    "# Otherwise set zero\n"
   ]
  },
  {
   "cell_type": "code",
   "execution_count": null,
   "metadata": {
    "tags": []
   },
   "outputs": [],
   "source": [
    "x.format(formatter=lambda x: x.strftime('%Y    %m    %d  %H:%M.%S'))"
   ]
  },
  {
   "cell_type": "code",
   "execution_count": null,
   "metadata": {},
   "outputs": [],
   "source": [
    "show(grid)"
   ]
  }
 ],
 "metadata": {
  "interpreter": {
   "hash": "1ff286a031d18b4d528b1daf1741fd0f83c7034d68e608da6e6d7ebd5f529285"
  },
  "kernelspec": {
   "display_name": "Python 3",
   "language": "python",
   "name": "python3"
  },
  "language_info": {
   "codemirror_mode": {
    "name": "ipython",
    "version": 3
   },
   "file_extension": ".py",
   "mimetype": "text/x-python",
   "name": "python",
   "nbconvert_exporter": "python",
   "pygments_lexer": "ipython3",
   "version": "3.8.8"
  }
 },
 "nbformat": 4,
 "nbformat_minor": 4
}
